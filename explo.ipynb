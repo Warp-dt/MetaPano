{
 "cells": [
  {
   "cell_type": "code",
   "execution_count": 5,
   "metadata": {},
   "outputs": [],
   "source": [
    "user_input=\"warpbot stuff feu\"\n",
    "\n",
    "command_1=\"warpbot stuff terre osa\"\n",
    "command_2=\"warpbot calcul dragonnet https://d-bk.net/fr/t/9nwN\""
   ]
  },
  {
   "cell_type": "code",
   "execution_count": 6,
   "metadata": {},
   "outputs": [],
   "source": [
    "import re"
   ]
  },
  {
   "cell_type": "code",
   "execution_count": 8,
   "metadata": {},
   "outputs": [
    {
     "ename": "AttributeError",
     "evalue": "'NoneType' object has no attribute 'groups'",
     "output_type": "error",
     "traceback": [
      "\u001b[1;31m---------------------------------------------------------------------------\u001b[0m",
      "\u001b[1;31mAttributeError\u001b[0m                            Traceback (most recent call last)",
      "Cell \u001b[1;32mIn[8], line 2\u001b[0m\n\u001b[0;32m      1\u001b[0m m \u001b[38;5;241m=\u001b[39m re\u001b[38;5;241m.\u001b[39mmatch(\u001b[38;5;124mr\u001b[39m\u001b[38;5;124m\"\u001b[39m\u001b[38;5;124m(?P<botname>\u001b[39m\u001b[38;5;124m\\\u001b[39m\u001b[38;5;124mw+) (?P<function>\u001b[39m\u001b[38;5;124m\\\u001b[39m\u001b[38;5;124mw+) (?P<arg1>\u001b[39m\u001b[38;5;124m\\\u001b[39m\u001b[38;5;124mw*)(?P<arg2>\u001b[39m\u001b[38;5;124m\\\u001b[39m\u001b[38;5;124ms?[a-z0-9\u001b[39m\u001b[38;5;124m\\\u001b[39m\u001b[38;5;124m/\u001b[39m\u001b[38;5;124m\\\u001b[39m\u001b[38;5;124m.\u001b[39m\u001b[38;5;124m\\\u001b[39m\u001b[38;5;124m-:]*)\u001b[39m\u001b[38;5;124m\"\u001b[39m, user_input)\n\u001b[1;32m----> 2\u001b[0m \u001b[43mm\u001b[49m\u001b[38;5;241;43m.\u001b[39;49m\u001b[43mgroups\u001b[49m()\n\u001b[0;32m      4\u001b[0m element \u001b[38;5;241m=\u001b[39m m\u001b[38;5;241m.\u001b[39mgroup(\u001b[38;5;124m'\u001b[39m\u001b[38;5;124marg1\u001b[39m\u001b[38;5;124m'\u001b[39m)\n\u001b[0;32m      5\u001b[0m classe\u001b[38;5;241m=\u001b[39mm\u001b[38;5;241m.\u001b[39mgroup(\u001b[38;5;124m'\u001b[39m\u001b[38;5;124marg2\u001b[39m\u001b[38;5;124m'\u001b[39m)\n",
      "\u001b[1;31mAttributeError\u001b[0m: 'NoneType' object has no attribute 'groups'"
     ]
    }
   ],
   "source": [
    "m = re.match(r\"(?P<botname>\\w+) (?P<function>\\w+) (?P<arg1>\\w*)(?P<arg2>\\s?[a-z0-9\\/\\.\\-:]*)\", user_input)\n",
    "m.groups()\n",
    "\n",
    "element = m.group('arg1')\n",
    "classe=m.group('arg2')\n",
    "element,classe"
   ]
  },
  {
   "cell_type": "code",
   "execution_count": 2,
   "metadata": {},
   "outputs": [],
   "source": [
    "def f():\n",
    "    status=404\n",
    "    match status:\n",
    "            case 400:\n",
    "                return \"Bad request\"\n",
    "            case 404:\n",
    "                return \"Not found\"\n",
    "            case 418:\n",
    "                return \"I'm a teapot\"\n",
    "            case _:\n",
    "                return \"Something's wrong with the internet\""
   ]
  },
  {
   "cell_type": "code",
   "execution_count": 2,
   "metadata": {},
   "outputs": [
    {
     "name": "stdout",
     "output_type": "stream",
     "text": [
      "['terre', 'feu'] ['feu', 'terre'] ['feu', 'terre'] ['feu', 'terre']\n"
     ]
    }
   ],
   "source": [
    "t='terre'\n",
    "f='feu'\n",
    "e='eau'\n",
    "a='air'\n",
    "dp=\"dopou\"\n",
    "\n",
    "s=[t,f]\n",
    "ss=[f,t]\n",
    "\n",
    "print(s,sorted(s),ss,sorted(ss))"
   ]
  },
  {
   "cell_type": "code",
   "execution_count": 11,
   "metadata": {},
   "outputs": [],
   "source": [
    "\n",
    "def from_elts_to_multi(elt_list):\n",
    "    sorted_list=sorted(elt_list)\n",
    "    return '+'.join(sorted_list)"
   ]
  },
  {
   "cell_type": "code",
   "execution_count": 4,
   "metadata": {},
   "outputs": [
    {
     "data": {
      "text/plain": [
       "'feu+terre'"
      ]
     },
     "execution_count": 4,
     "metadata": {},
     "output_type": "execute_result"
    }
   ],
   "source": [
    "from_elts_to_multi(s)"
   ]
  },
  {
   "cell_type": "code",
   "execution_count": 7,
   "metadata": {},
   "outputs": [
    {
     "name": "stdout",
     "output_type": "stream",
     "text": [
      "terre+terre\n",
      "feu+terre\n",
      "eau+terre\n",
      "air+terre\n",
      "dopou+terre\n",
      "feu+feu\n",
      "eau+feu\n",
      "air+feu\n",
      "dopou+feu\n",
      "eau+eau\n",
      "air+eau\n",
      "dopou+eau\n",
      "air+air\n",
      "air+dopou\n"
     ]
    }
   ],
   "source": [
    "ll=[t,f,e,a,dp]\n",
    "for i in range(len(ll)-1):\n",
    "    for j in range(i,len(ll)):\n",
    "        print(from_elts_to_multi([ll[i],ll[j]]))"
   ]
  },
  {
   "cell_type": "code",
   "execution_count": 18,
   "metadata": {},
   "outputs": [
    {
     "name": "stdout",
     "output_type": "stream",
     "text": [
      "air+dopou+terre\n",
      "dopou+feu+terre\n",
      "air+dopou+feu\n",
      "air+dopou+eau\n",
      "dopou+eau+feu\n",
      "air+eau+terre\n",
      "eau+feu+terre\n",
      "air+eau+feu\n",
      "air+feu+terre\n",
      "dopou+eau+terre\n"
     ]
    }
   ],
   "source": [
    "import itertools\n",
    "seen=[]\n",
    "for e in set(itertools.product(ll,ll,ll)):\n",
    "    if not e[0] in e[1:] and not e[1] in [e[0],e[2]]:\n",
    "        temp=from_elts_to_multi(e)\n",
    "        \n",
    "        if not temp in seen:        \n",
    "            print(from_elts_to_multi(e))\n",
    "            seen.append(temp)"
   ]
  },
  {
   "cell_type": "code",
   "execution_count": null,
   "metadata": {},
   "outputs": [],
   "source": [
    "('eau', 'terre', 'air')\n"
   ]
  },
  {
   "cell_type": "code",
   "execution_count": 8,
   "metadata": {},
   "outputs": [
    {
     "data": {
      "text/plain": [
       "{'12/6': [], '11/6': [], 'cc': [], 'no_cc': []}"
      ]
     },
     "execution_count": 8,
     "metadata": {},
     "output_type": "execute_result"
    }
   ],
   "source": [
    "modes=dict()\n",
    "modes[\"12/6\"]=[]\n",
    "modes[\"11/6\"]=[]\n",
    "modes[\"cc\"]=[]\n",
    "modes[\"no_cc\"]=[]\n",
    "modes"
   ]
  },
  {
   "cell_type": "code",
   "execution_count": 9,
   "metadata": {},
   "outputs": [
    {
     "data": {
      "text/plain": [
       "{'terre': {'12/6': [], '11/6': [], 'cc': [], 'no_cc': []},\n",
       " 'feu': {'12/6': [], '11/6': [], 'cc': [], 'no_cc': []},\n",
       " 'eau': {'12/6': [], '11/6': [], 'cc': [], 'no_cc': []},\n",
       " 'air': {'12/6': [], '11/6': [], 'cc': [], 'no_cc': []},\n",
       " 'dopou': {'12/6': [], '11/6': [], 'cc': [], 'no_cc': []},\n",
       " 'feu+terre': {'12/6': [], '11/6': [], 'cc': [], 'no_cc': []},\n",
       " 'eau+terre': {'12/6': [], '11/6': [], 'cc': [], 'no_cc': []},\n",
       " 'air+terre': {'12/6': [], '11/6': [], 'cc': [], 'no_cc': []},\n",
       " 'dopou+terre': {'12/6': [], '11/6': [], 'cc': [], 'no_cc': []},\n",
       " 'eau+feu': {'12/6': [], '11/6': [], 'cc': [], 'no_cc': []},\n",
       " 'air+feu': {'12/6': [], '11/6': [], 'cc': [], 'no_cc': []},\n",
       " 'dopou+feu': {'12/6': [], '11/6': [], 'cc': [], 'no_cc': []},\n",
       " 'air+eau': {'12/6': [], '11/6': [], 'cc': [], 'no_cc': []},\n",
       " 'dopou+eau': {'12/6': [], '11/6': [], 'cc': [], 'no_cc': []},\n",
       " 'air+dopou': {'12/6': [], '11/6': [], 'cc': [], 'no_cc': []}}"
      ]
     },
     "execution_count": 9,
     "metadata": {},
     "output_type": "execute_result"
    }
   ],
   "source": [
    "\n",
    "\n",
    "stuffs=dict()\n",
    "\n",
    "stuffs[\"terre\"]={'12/6': [], '11/6': [], 'cc': [], 'no_cc': []}\n",
    "stuffs[\"feu\"]={'12/6': [], '11/6': [], 'cc': [], 'no_cc': []}\n",
    "stuffs[\"eau\"]={'12/6': [], '11/6': [], 'cc': [], 'no_cc': []}\n",
    "stuffs[\"air\"]={'12/6': [], '11/6': [], 'cc': [], 'no_cc': []}\n",
    "stuffs[\"dopou\"]={'12/6': [], '11/6': [], 'cc': [], 'no_cc': []}\n",
    "stuffs[\"feu+terre\"]={'12/6': [], '11/6': [], 'cc': [], 'no_cc': []}\n",
    "stuffs[\"eau+terre\"]={'12/6': [], '11/6': [], 'cc': [], 'no_cc': []}\n",
    "stuffs[\"air+terre\"]={'12/6': [], '11/6': [], 'cc': [], 'no_cc': []}\n",
    "stuffs[\"dopou+terre\"]={'12/6': [], '11/6': [], 'cc': [], 'no_cc': []}\n",
    "stuffs[\"eau+feu\"]={'12/6': [], '11/6': [], 'cc': [], 'no_cc': []}\n",
    "stuffs[\"air+feu\"]={'12/6': [], '11/6': [], 'cc': [], 'no_cc': []}\n",
    "stuffs[\"dopou+feu\"]={'12/6': [], '11/6': [], 'cc': [], 'no_cc': []}\n",
    "stuffs[\"air+eau\"]={'12/6': [], '11/6': [], 'cc': [], 'no_cc': []}\n",
    "stuffs[\"dopou+eau\"]={'12/6': [], '11/6': [], 'cc': [], 'no_cc': []}\n",
    "stuffs[\"air+dopou\"]={'12/6': [], '11/6': [], 'cc': [], 'no_cc': []}\n",
    "stuffs[\"air+eau+terre\"]={'12/6': [], '11/6': [], 'cc': [], 'no_cc': []}\n",
    "stuffs[\"air+eau+feu\"]={'12/6': [], '11/6': [], 'cc': [], 'no_cc': []}\n",
    "stuffs[\"air+feu+terre\"]={'12/6': [], '11/6': [], 'cc': [], 'no_cc': []}\n",
    "stuffs[\"eau+feu+terre\"]={'12/6': [], '11/6': [], 'cc': [], 'no_cc': []}\n",
    "stuffs[\"multi\"]={'12/6': [], '11/6': [], 'cc': [], 'no_cc': []}\n",
    "stuffs"
   ]
  },
  {
   "cell_type": "code",
   "execution_count": 12,
   "metadata": {},
   "outputs": [
    {
     "data": {
      "text/plain": [
       "'eau+feu+terre'"
      ]
     },
     "execution_count": 12,
     "metadata": {},
     "output_type": "execute_result"
    }
   ],
   "source": [
    "\n",
    "bordel=\"feu+terre+eau\"\n",
    "\n",
    "def rearrange_elt(elts):\n",
    "    elt_spl=elts.split(\"+\")\n",
    "    return from_elts_to_multi(elt_spl)\n",
    "\n",
    "rearrange_elt(bordel)"
   ]
  },
  {
   "cell_type": "code",
   "execution_count": 13,
   "metadata": {},
   "outputs": [],
   "source": [
    "stuffs=dict()\n",
    "\n",
    "stuffs[\"terre\"]={'12/6': [\"<https://d-bk.net/fr/t/8vYb>\"], '11/6': [\"<https://d-bk.net/fr/t/9WxC>\"], 'cc': [], 'no_cc': []}\n",
    "stuffs[\"feu\"]={'12/6': [\"<https://d-bk.net/fr/t/A8Zv>\"], '11/6': [\"<https://d-bk.net/fr/t/8yAu>\"], 'cc': [], 'no_cc': []}\n",
    "stuffs[\"eau\"]={'12/6': [\"<https://d-bk.net/fr/t/B7er>\"], '11/6': [\"<https://d-bk.net/fr/t/B9MR>\"], 'cc': [], 'no_cc': []}\n",
    "stuffs[\"air\"]={'12/6': [\"<https://d-bk.net/fr/t/5qJF>\"], '11/6': [\"<https://d-bk.net/fr/t/9RJp>\"], 'cc': [], 'no_cc': []}\n",
    "stuffs[\"dopou\"]={'12/6': [], '11/6': [], 'cc': [], 'no_cc': []} ### Dopou is always with another element\n",
    "stuffs[\"feu+terre\"]={'12/6': [], '11/6': [], 'cc': [\"<https://d-bk.net/fr/t/7ESW>\"], 'no_cc': [\"<https://d-bk.net/fr/t/AwSG>\"]}\n",
    "stuffs[\"eau+terre\"]={'12/6': [], '11/6': [\"<https://d-bk.net/fr/t/Azb9>\"], 'cc': [], 'no_cc': []}\n",
    "stuffs[\"air+terre\"]={'12/6': [], '11/6': [], 'cc': [], 'no_cc': []}\n",
    "stuffs[\"dopou+terre\"]={'12/6': [], '11/6': [], 'cc': [], 'no_cc': []}\n",
    "stuffs[\"eau+feu\"]={'12/6': [], '11/6': [\"<https://d-bk.net/fr/t/931X>\"], 'cc': [], 'no_cc': []}\n",
    "stuffs[\"air+feu\"]={'12/6': [], '11/6': [], 'cc': [\"<https://d-bk.net/fr/t/7OhS>\"], 'no_cc': []}\n",
    "stuffs[\"dopou+feu\"]={'12/6': [], '11/6': [], 'cc': [], 'no_cc': []}\n",
    "stuffs[\"air+eau\"]={'12/6': [\"<https://d-bk.net/fr/t/8Ql4>\"], '11/6': [\"<https://d-bk.net/fr/t/BMXD>\"], 'cc': [], 'no_cc': []}\n",
    "stuffs[\"dopou+eau\"]={'12/6': [], '11/6': [\"<https://d-bk.net/fr/t/AzPu>\"], 'cc': [], 'no_cc': []}\n",
    "stuffs[\"air+dopou\"]={'12/6': [], '11/6': [\"<https://d-bk.net/fr/t/BK5m>\"], 'cc': [], 'no_cc': []}\n",
    "stuffs[\"air+eau+terre\"]={'12/6': [], '11/6': [\"<https://d-bk.net/fr/t/2OhT>\"], 'cc': [], 'no_cc': []}\n",
    "stuffs[\"air+eau+feu\"]={'12/6': [], '11/6': [], 'cc': [\"<https://d-bk.net/fr/t/2OhM>\"], 'no_cc': [\"<https://d-bk.net/fr/t/BQYM>\"]}\n",
    "stuffs[\"air+feu+terre\"]={'12/6': [], '11/6': [], 'cc': [\"<https://d-bk.net/fr/t/4qgX>\"], 'no_cc': [\"<https://d-bk.net/fr/t/AP7x>\"]}\n",
    "stuffs[\"eau+feu+terre\"]={'12/6': [], '11/6': [], 'cc': [\"<https://d-bk.net/fr/t/47TD>\"], 'no_cc': []}\n",
    "stuffs[\"air+dopou+eau\"]={'12/6': [], '11/6': [\"<https://d-bk.net/fr/t/A9Iy>\"], 'cc': [], 'no_cc': []}\n",
    "stuffs[\"air+dopou+terre\"]={'12/6': [], '11/6': [], 'cc': [], 'no_cc': []}\n",
    "stuffs[\"dopou+feu+terre\"]={'12/6': [], '11/6': [], 'cc': [], 'no_cc': []}\n",
    "stuffs[\"air+dopou+feu\"]={'12/6': [], '11/6': [], 'cc': [], 'no_cc': []}\n",
    "stuffs[\"dopou+eau+feu\"]={'12/6': [], '11/6': [\"<https://d-bk.net/fr/t/BQQd>\"], 'cc': [], 'no_cc': []}\n",
    "stuffs[\"dopou+eau+terre\"]={'12/6': [], '11/6': [\"<https://d-bk.net/fr/t/BQQl>\"], 'cc': [], 'no_cc': []}\n",
    "stuffs[\"multi\"]={'12/6': [], '11/6': [], 'cc': [\"<https://d-bk.net/fr/t/2Ol7>\"], 'no_cc': []}    "
   ]
  },
  {
   "cell_type": "code",
   "execution_count": 14,
   "metadata": {},
   "outputs": [
    {
     "data": {
      "text/plain": [
       "dict_keys(['terre', 'feu', 'eau', 'air', 'dopou', 'feu+terre', 'eau+terre', 'air+terre', 'dopou+terre', 'eau+feu', 'air+feu', 'dopou+feu', 'air+eau', 'dopou+eau', 'air+dopou', 'air+eau+terre', 'air+eau+feu', 'air+feu+terre', 'eau+feu+terre', 'air+dopou+eau', 'air+dopou+terre', 'dopou+feu+terre', 'air+dopou+feu', 'dopou+eau+feu', 'dopou+eau+terre', 'multi'])"
      ]
     },
     "execution_count": 14,
     "metadata": {},
     "output_type": "execute_result"
    }
   ],
   "source": [
    "stuffs.keys()"
   ]
  },
  {
   "cell_type": "code",
   "execution_count": 15,
   "metadata": {},
   "outputs": [
    {
     "data": {
      "text/plain": [
       "'eau+terre'"
      ]
     },
     "execution_count": 15,
     "metadata": {},
     "output_type": "execute_result"
    }
   ],
   "source": [
    "rearrange_elt('terre+eau')"
   ]
  },
  {
   "cell_type": "code",
   "execution_count": 4,
   "metadata": {},
   "outputs": [],
   "source": [
    "def from_elts_to_multi(elt_list):\n",
    "    sorted_list=sorted(elt_list)\n",
    "    return '+'.join(sorted_list)"
   ]
  },
  {
   "cell_type": "code",
   "execution_count": 1,
   "metadata": {},
   "outputs": [
    {
     "data": {
      "text/plain": [
       "'eeau/air'"
      ]
     },
     "execution_count": 1,
     "metadata": {},
     "output_type": "execute_result"
    }
   ],
   "source": [
    "l=\"eeau+air\"\n",
    "l.replace(\"+\",\"/\")"
   ]
  },
  {
   "cell_type": "code",
   "execution_count": 2,
   "metadata": {},
   "outputs": [
    {
     "data": {
      "text/plain": [
       "10"
      ]
     },
     "execution_count": 2,
     "metadata": {},
     "output_type": "execute_result"
    }
   ],
   "source": [
    "250%60"
   ]
  },
  {
   "cell_type": "code",
   "execution_count": 43,
   "metadata": {},
   "outputs": [],
   "source": [
    "def lecture_elt(elts):\n",
    "    elt_spl=[e.strip() for e in elts.replace(\"/\",\"+\").split(r\"+\")]\n",
    "    # print(elts,elt_spl)\n",
    "    if len(elt_spl)==1:\n",
    "        elt_spl=[e.strip() for e in elts.split(r\" \")]\n",
    "        # print(elts,elt_spl)\n",
    "\n",
    "    return from_elts_to_multi(elt_spl)"
   ]
  },
  {
   "cell_type": "code",
   "execution_count": 45,
   "metadata": {},
   "outputs": [
    {
     "name": "stdout",
     "output_type": "stream",
     "text": [
      "test :eau+air|air+eau|\n",
      "test :eau|eau|\n",
      "test :eau air|air+eau|\n",
      "test :eau + air|air+eau|\n",
      "test :eau/air|air+eau|\n",
      "test :eau / air|air+eau|\n",
      "test :eau+ air|air+eau|\n",
      "test :eau   air|++air+eau|\n"
     ]
    }
   ],
   "source": [
    "test1='eau+air'\n",
    "test2=\"eau\"\n",
    "test3=\"eau air\"\n",
    "test4=\"eau + air\"\n",
    "test5=\"eau/air\"\n",
    "test6=\"eau / air\"\n",
    "test7=\"eau+ air\"\n",
    "test8=\"eau   air\"\n",
    "print(\"test :\"+test1 +\"|\"+lecture_elt(test1)+\"|\")\n",
    "print(\"test :\"+test2 +\"|\"+lecture_elt(test2)+\"|\")\n",
    "print(\"test :\"+test3 +\"|\"+lecture_elt(test3)+\"|\")\n",
    "print(\"test :\"+test4 +\"|\"+lecture_elt(test4)+\"|\")\n",
    "print(\"test :\"+test5 +\"|\"+lecture_elt(test5)+\"|\")\n",
    "print(\"test :\"+test6 +\"|\"+lecture_elt(test6)+\"|\")\n",
    "print(\"test :\"+test7 +\"|\"+lecture_elt(test7)+\"|\")\n",
    "print(\"test :\"+test8 +\"|\"+lecture_elt(test8)+\"|\")"
   ]
  },
  {
   "cell_type": "code",
   "execution_count": 6,
   "metadata": {},
   "outputs": [],
   "source": [
    "\n",
    "#prend une liste d'éléments et la met sous la forme elt1+elt2+elt3...\n",
    "def from_elts_to_multi(elt_list):\n",
    "    sorted_list=sorted(elt_list)\n",
    "    return '+'.join(sorted_list)\n",
    "\n",
    "#prends les éléments sous le format elt1+elt2+elt3... et les remet dans le bon ordre\n",
    "def lecture_elt(elts):\n",
    "    elt_spl=[e.strip() for e in elts.replace(\"/\",\"+\").split(r\"+\")]\n",
    "    # print(elts,elt_spl)\n",
    "    if len(elt_spl)==1:\n",
    "        elt_spl=[e.strip() for e in elts.split(r\" \")]\n",
    "        # print(elts,elt_spl)\n",
    "\n",
    "    return from_elts_to_multi(elt_spl)"
   ]
  },
  {
   "cell_type": "code",
   "execution_count": 2,
   "metadata": {},
   "outputs": [],
   "source": [
    "\n",
    "COLORS=dict()\n",
    "COLORS[\"terre\"]=\"815633\"\n",
    "COLORS[\"feu\"]=\"d13800\"\n",
    "COLORS[\"eau\"]=\"398a89\"\n",
    "COLORS[\"air\"]=\"2b6f2d\"\n",
    "COLORS[\"dopou\"]=\"6f5794\"\n",
    "COLORS[\"multi\"]=\"f3cf0b\""
   ]
  },
  {
   "cell_type": "code",
   "execution_count": 15,
   "metadata": {},
   "outputs": [],
   "source": [
    "def color_mix(elements):\n",
    "    try:\n",
    "        colors_list=[COLORS[k]for k in lecture_elt(elements).split('+')]\n",
    "    except: #erreur dans les éléments\n",
    "        return \"ff0000\"\n",
    "    tot_weight = len(colors_list)\n",
    "    red = int(sum([int(k[:2], 16) for k in colors_list])/tot_weight)\n",
    "    green = int(sum([int(k[2:4], 16) for k in colors_list])/tot_weight)\n",
    "    blue = int(sum([int(k[4:6], 16) for k in colors_list])/tot_weight)\n",
    "    zpad = lambda x: x if len(x)==2 else '0' + x\n",
    "    \n",
    "    return zpad(hex(red)[2:]) + zpad(hex(green)[2:]) + zpad(hex(blue)[2:])\n"
   ]
  },
  {
   "cell_type": "code",
   "execution_count": 16,
   "metadata": {},
   "outputs": [
    {
     "data": {
      "text/plain": [
       "'ff0000'"
      ]
     },
     "execution_count": 16,
     "metadata": {},
     "output_type": "execute_result"
    }
   ],
   "source": [
    "color_mix(\"eau+air+qdqzd\")"
   ]
  },
  {
   "cell_type": "markdown",
   "metadata": {},
   "source": [
    "# Dofusbook stuff scraping"
   ]
  },
  {
   "cell_type": "code",
   "execution_count": 1,
   "metadata": {},
   "outputs": [],
   "source": [
    "import requests as req"
   ]
  },
  {
   "cell_type": "code",
   "execution_count": 2,
   "metadata": {},
   "outputs": [],
   "source": [
    "FR_KEYS=['Lvl','PA', 'PM', 'PO', 'Initiative', 'Critique', 'Invocation', 'Soin', 'Vitalité', 'Sagesse', 'Force', 'Intelligence', 'Chance', 'Agilité', 'Puissance', 'Fuite', 'Esq. PA', 'Esq. PM', 'Pods', 'Tacle', 'Ret. PA', 'Ret. PM',  'Do Critique', '% Ré Air', '% Ré Feu', 'Do Eau', 'Do Terre', 'Do Neutre', '% Ré Terre', 'Prospection', 'Do Feu', 'Do Air', 'Do Poussée', 'Ré Neutre', '% Ré Neutre', 'Ré Terre', 'Ré Feu', 'Ré Eau', '% Ré Eau', 'Ré Air', 'Ré Critique', 'Ré Poussée', \"Do\"]\n",
    "EN_KEYS=['Lvl','AP', 'MP', 'Range', 'Initiative', 'Critical', 'Summon', 'Heal', 'Vitality', 'Wisdom', 'Strength', 'Intelligence', 'Chance', 'Agility', 'Power', 'Dodge', 'AP Res.', 'MP Res.', 'Pods', 'Lock', 'AP Red', 'MP Red',  'Da Critical', '% Re Air', '% Re Fire', 'Da Water', 'Da Earth', 'Da Neutral', '% Re Earth', 'Prospecting', 'Da Fire', 'Da Air', 'Da Pushback', 'Re Neutral', '% Re Neutral', 'Re Earth', 'Re Fire', 'Re Water', '% Re Water', 'Re Air', 'Re Critical', 'Re Pushback', \"Da\"]\n",
    "ES_KEYS=['Lvl','PA', 'PM', 'AL', 'Iniciativa', 'Crítico', 'Invocación', 'Cura', 'Vitalidad', 'Sabiduría', 'Fuerza', 'Inteligencia', 'Suerte', 'Agilidad', 'Potencia', 'Huida', 'Esq. PA', 'Esq. PM', 'Pods', 'Placaje', 'Ret. PA', 'Ret. PM',  'Da Crítico', '% Re Aire', '% Re Fuego', 'Da Agua', 'Da Tierra', 'Da Neutro', '% Re Tierra', 'Prospección', 'Da Fuego', 'Da Aire', 'Da Empuje', 'Re Neutro', '% Re Neutro', 'Re Tierra', 'Re Fuego', 'Re Agua', '% Re Agua', 'Re Aire', 'Re Crítico', 'Re Empuje', \"Da\"]\n",
    "\n",
    "ALIASES=dict()\n",
    "for i in range(len(FR_KEYS)):\n",
    "    ALIASES[EN_KEYS[i]]=FR_KEYS[i]\n",
    "    ALIASES[FR_KEYS[i]]=FR_KEYS[i]\n",
    "    ALIASES[ES_KEYS[i]]=FR_KEYS[i]\n",
    "\n",
    "TRAD_DB_STATS={\n",
    "    # stats du perso\n",
    "    'scroll_vi': 'Vitalité',\n",
    "    'scroll_sa': 'Sagesse',\n",
    "    'scroll_fo': 'Force',\n",
    "    'scroll_in': 'Intelligence',\n",
    "    'scroll_ch': 'Chance',\n",
    "    'scroll_ag': 'Agilité',\n",
    "    'base_vi': 'Vitalité',\n",
    "    'base_sa': 'Sagesse',\n",
    "    'base_fo': 'Force',\n",
    "    'base_in': 'Intelligence',\n",
    "    'base_ch': 'Chance',\n",
    "    'base_ag': 'Agilité',\n",
    "\n",
    "    #fm global\n",
    "    'pa': \"PA\",\n",
    "    'pm': \"PM\",\n",
    "    'po': \"PO\",\n",
    "    'vi': \"Vitalité\",\n",
    "    'sa': \"Sagesse\",\n",
    "    'fo': \"Force\",\n",
    "    'in': \"Intelligence\",\n",
    "    'ch': \"Chance\",\n",
    "    'ag': \"Agilité\",\n",
    "    'pu': \"Puissance\",\n",
    "    'ii': \"Initiative\",\n",
    "    'cc': \"Critique\",\n",
    "    'ic': \"Invocation\",\n",
    "    'so': \"Soin\",\n",
    "    'pp': \"Prospection\",\n",
    "    'fu': \"Fuite\",\n",
    "    'ta': \"Tacle\",\n",
    "    'dmg': \"Do\",\n",
    "    'dnf': \"Do Neutre\",\n",
    "    'dtf': \"Do Terre\",\n",
    "    'dff': \"Do Feu\",\n",
    "    'def': \"Do Eau\",\n",
    "    'daf': \"Do Air\",\n",
    "    'dc': \"Do Critique\",\n",
    "    'dp': \"Do Poussée\",\n",
    "    'dw': \"non attribué\",\n",
    "    'ds': \"non attribué\",\n",
    "    'dm': \"non attribué\",\n",
    "    'dd': \"non attribué\",\n",
    "    'deg': \"non attribué\",\n",
    "    'rn': \"Ré Neutre\",\n",
    "    'rt': \"Ré Terre\",\n",
    "    'rf': \"Ré Feu\",\n",
    "    're': \"Ré Eau\",\n",
    "    'ra': \"Ré Air\",\n",
    "    'rnp': \"% Ré Neutre\",\n",
    "    'rtp': \"% Ré Terre\",\n",
    "    'rfp': \"% Ré Feu\",\n",
    "    'rep': \"% Ré Eau\",\n",
    "    'rap': \"% Ré Air\",\n",
    "    'rc': \"Ré Critique\",\n",
    "    'rp': \"Ré Poussée\",\n",
    "    'rm': \"non attribué\",\n",
    "    'rd': \"non attribué\",\n",
    "    'rw': \"non attribué\",\n",
    "    'epa': \"Esq. PA\",\n",
    "    'epm': \"Esq. PM\",\n",
    "    'rpa': \"Ret. PA\",\n",
    "    'rpm': \"Ret. PM\",\n",
    "    'pd': \"Pods\",\n",
    "    'pi': \"non attribué\",\n",
    "    'pip': \"non attribué\",\n",
    "    'rv': \"non attribué\",\n",
    "}   \n",
    "elt_filtre={\n",
    "    \"terre\" : \"ter\"\n",
    "    ,\"feu\" : \"feu\"\n",
    "    ,\"eau\" : \"eau\"\n",
    "    ,\"air\" : \"air\"\n",
    "    ,\"dopou\" : \"dp\"\n",
    "    ,\"cc\" : \"cc\"\n",
    "    ,\"initiative\" : \"ii\"\n",
    "    ,\"pp\" : \"pp\"\n",
    "    ,\"sagesse\" : \"sa\"\n",
    "    ,\"pods\" : \"pd\"\n",
    "    ,'pvp' : 'pvp'\n",
    "    ,'pvm' : 'pvm'\n",
    "    ,'retrait pa' : 'rpa'\n",
    "    ,'retrait pm' : 'rpm'\n",
    "    ,'esquive pa' : 'epa'\n",
    "    ,'esquive pm' : 'epm'\n",
    "    ,'repou' :'rp'\n",
    "    ,'recri' : 'rc'\n",
    "    ,'tank' : 'tank'\n",
    "    # ,'dodist' : 'dd'\n",
    "    # ,'domelee' : 'dm'\n",
    "    # ,'dosort' : 'ds'\n",
    "}\n",
    "raw_elt_to_id={\n",
    "    elt_filtre['terre']      : 1,\n",
    "    elt_filtre['feu']        : 2,\n",
    "    elt_filtre['eau']        : 3,\n",
    "    elt_filtre['air']        : 4,\n",
    "    elt_filtre['dopou']      : 5,\n",
    "    elt_filtre['cc']         : 6,\n",
    "    elt_filtre['initiative'] : 7,\n",
    "    elt_filtre['pp']         : 8,\n",
    "    elt_filtre['sagesse']    : 9,\n",
    "    elt_filtre['pods']       : 10,\n",
    "    elt_filtre['pvp']        : 11,\n",
    "    elt_filtre['pvm']        : 12,\n",
    "    elt_filtre['retrait pa'] : 13,\n",
    "    elt_filtre['retrait pm'] : 14,\n",
    "    elt_filtre['esquive pa'] : 15,\n",
    "    elt_filtre['esquive pm'] : 16,\n",
    "    elt_filtre['repou']      : 17,\n",
    "    elt_filtre['recri']      : 18,\n",
    "    elt_filtre['tank']       : 19\n",
    "}\n",
    "classes_filtre={\n",
    "    \"tout\" : \"A\"\n",
    "    ,\"feca\" : \"1\"\n",
    "    ,\"osamodas\" : \"2\"\n",
    "    ,\"enutrof\" : \"3\"\n",
    "    ,\"sram\" : \"4\"\n",
    "    ,\"xelor\" : \"5\"\n",
    "    ,\"ecaflip\" : \"6\"\n",
    "    ,\"eniripsa\" : \"7\"\n",
    "    ,\"iop\" : \"8\"\n",
    "    ,\"cra\" : \"9\"\n",
    "    ,\"sadida\" : \"10\"\n",
    "    ,'sacrieur' : \"11\"\n",
    "    ,\"pandawa\" : \"12\"\n",
    "    ,\"roublard\" : \"13\"\n",
    "    ,\"zobal\" : \"14\"\n",
    "    ,\"steamer\" : \"15\"\n",
    "}"
   ]
  },
  {
   "cell_type": "code",
   "execution_count": 3,
   "metadata": {},
   "outputs": [],
   "source": [
    "def url_builder(element=\"rien\",classes=\"rien\",page=\"1\",user=\"996244-metapano\"):\n",
    "    #user=\"244671-warp\"\n",
    "    base=\"https://touch.dofusbook.net/stuffs/touch/public/\"\n",
    "    membre=\"&user=\"+user+\"&sort=update-desc\"\n",
    "    page_base=\"?page=\"\n",
    "    filtre=\"\"\n",
    "    if type(element)==list:\n",
    "        filtre+=\"&include=\"\n",
    "        first=True\n",
    "        for elt in element:\n",
    "            if not first:\n",
    "                filtre+=\"-\"\n",
    "            else:\n",
    "                first=False\n",
    "            filtre+=elt_filtre[elt]\n",
    "    \n",
    "    if type(classes)==list:\n",
    "        filtre+=\"&classes=\"\n",
    "        first2=True\n",
    "        for cla in classes:\n",
    "            if not first2:\n",
    "                filtre+=\"-\"\n",
    "            else:\n",
    "                first2=False\n",
    "            filtre+=classes_filtre[cla]\n",
    "    \n",
    "    \n",
    "    return base+page_base+str(page)+membre+filtre"
   ]
  },
  {
   "cell_type": "code",
   "execution_count": 4,
   "metadata": {},
   "outputs": [
    {
     "data": {
      "text/plain": [
       "'https://touch.dofusbook.net/stuffs/touch/public/?page=1&user=996244-metapano&sort=update-desc&include=eau-feu&classes=2-7'"
      ]
     },
     "execution_count": 4,
     "metadata": {},
     "output_type": "execute_result"
    }
   ],
   "source": [
    "url_builder(element=[\"eau\",'feu'],classes=[\"osamodas\",'eniripsa'])"
   ]
  },
  {
   "cell_type": "code",
   "execution_count": 5,
   "metadata": {},
   "outputs": [
    {
     "data": {
      "text/plain": [
       "'https://touch.dofusbook.net/stuffs/touch/public/?page=1&user=996244-metapano&sort=update-desc'"
      ]
     },
     "execution_count": 5,
     "metadata": {},
     "output_type": "execute_result"
    }
   ],
   "source": [
    "url_builder()"
   ]
  },
  {
   "cell_type": "code",
   "execution_count": 6,
   "metadata": {},
   "outputs": [],
   "source": [
    "def get_short_url(id):\n",
    "    resp=req.get(\"https://touch.dofusbook.net/stuffs/touch/public/\"+str(id))\n",
    "    return resp.json()[\"stuff\"][\"short_url\"]"
   ]
  },
  {
   "cell_type": "code",
   "execution_count": 7,
   "metadata": {},
   "outputs": [],
   "source": [
    "\n",
    "def get_stats(id):\n",
    "       \n",
    "    data= req.get(\"https://touch.dofusbook.net/stuffs/touch/public/\"+str(id)).json()\n",
    "\n",
    "    perso_stats=data[\"stuffStats\"] # 1 element = 1 stat\n",
    "    fmitems=data[\"fmItems\"] # chaque element est un item sous forme dict, chaque element d'un item est un fm qui lui est rajouté\n",
    "    fmglobal=data[\"fmGlobal\"] #  1 element = 1 stat\n",
    "    items=data[\"items\"] #list d'items, chaque item est un dict dont la clef \"effects\" est une liste d'effets où chaque effet est un dict contenant les clefts suivantes 'name': 'nomdelastat','type': 'E', 'min': 0,'max': 0,\n",
    "    panos=data[\"cloths\"] # list de pano, chaque item est un dict dont la clef \"effects\" est une liste d'effets où chaque effet est un dict contenant les clefts suivantes 'name': 'nomdelastat','type': 'E', 'value' : 1\n",
    "    \n",
    "\n",
    "    perso={key: 0 for key in FR_KEYS}\n",
    "    perso[\"DB_surl\"]=data[\"stuff\"][\"short_url\"]\n",
    "    perso[\"Lvl\"]=data[\"stuff\"][\"character_level\"]\n",
    "    perso[\"db_name\"]=data[\"stuff\"][\"name\"]\n",
    "    perso[\"PA\"]=7\n",
    "    if perso[\"Lvl\"]<100:\n",
    "        perso[\"PA\"]-=1\n",
    "    perso[\"PM\"]=3\n",
    "    perso[\"Invocation\"]=1\n",
    "    perso[\"Vitalité\"]=50+5*perso[\"Lvl\"]\n",
    "\n",
    "    for elt in perso_stats:\n",
    "        perso[TRAD_DB_STATS[elt]]+=perso_stats[elt]\n",
    "    \n",
    "    for elt in fmglobal:\n",
    "        perso[TRAD_DB_STATS[elt]]+=fmglobal[elt]\n",
    "    \n",
    "    for item in fmitems:\n",
    "        for elt in fmitems[item]:\n",
    "            perso[TRAD_DB_STATS[elt]]+=fmitems[item][elt]\n",
    "    \n",
    "    for item in items:\n",
    "        for stat in item[\"effects\"]:\n",
    "            if stat[\"type\"]=='E':\n",
    "                if stat[\"min\"]>=0:\n",
    "                    perso[TRAD_DB_STATS[stat[\"name\"]]]+=stat[\"max\"]\n",
    "                else:\n",
    "                    perso[TRAD_DB_STATS[stat[\"name\"]]]+=stat[\"min\"]\n",
    "\n",
    "    for pano in panos:\n",
    "        for stat in pano[\"effects\"]:\n",
    "            if stat[\"type\"]=='E':\n",
    "                perso[TRAD_DB_STATS[stat[\"name\"]]]+=stat[\"value\"]\n",
    "\n",
    "    #bonus dérivés de stats\n",
    "    # perso[\"Soin\"]+=max(0,perso[\"Intelligence\"]/10//1)\n",
    "    perso[\"Fuite\"]+=max(0,perso[\"Chance\"]/10//1)\n",
    "    perso[\"Tacle\"]+=max(0,perso[\"Agilité\"]/10//1)\n",
    "    perso[\"Esq. PA\"]+=max(0,perso[\"Sagesse\"]/10//1)\n",
    "    perso[\"Esq. PM\"]+=max(0,perso[\"Sagesse\"]/10//1)\n",
    "    perso[\"Ret. PA\"]+=max(0,perso[\"Sagesse\"]/10//1)\n",
    "    perso[\"Ret. PM\"]+=max(0,perso[\"Sagesse\"]/10//1)\n",
    "    perso[\"Initiative\"]+=max(0,perso[\"Intelligence\"])+max(0,perso[\"Chance\"])+max(0,perso[\"Agilité\"])+max(0,perso[\"Force\"])\n",
    "\n",
    "    \n",
    "    return perso"
   ]
  },
  {
   "cell_type": "code",
   "execution_count": 8,
   "metadata": {},
   "outputs": [],
   "source": [
    "def get_stuff_base_info(id):\n",
    "    resp=get_stats(id)\n",
    "    ans={\n",
    "        \"DB_surl\": resp[\"DB_surl\"],\n",
    "        \"PA\": resp[\"PA\"],\n",
    "        \"PM\": resp[\"PM\"],\n",
    "        \"PO\": resp[\"PO\"],\n",
    "        \"Invo\": resp[\"Invocation\"],\n",
    "        \"Lvl\" : resp[\"Lvl\"]\n",
    "        }\n",
    "    return ans"
   ]
  },
  {
   "cell_type": "code",
   "execution_count": 10,
   "metadata": {},
   "outputs": [
    {
     "data": {
      "text/plain": [
       "{'DB_surl': 'C6hA', 'PA': 11, 'PM': 6, 'PO': 5, 'Invo': 1, 'Lvl': 200}"
      ]
     },
     "execution_count": 10,
     "metadata": {},
     "output_type": "execute_result"
    }
   ],
   "source": [
    "get_stuff_base_info(2885676)"
   ]
  },
  {
   "cell_type": "code",
   "execution_count": 12,
   "metadata": {},
   "outputs": [
    {
     "name": "stdout",
     "output_type": "stream",
     "text": [
      "page 1 finie\n"
     ]
    },
    {
     "data": {
      "text/plain": [
       "[{'DB_id': 2885676,\n",
       "  'DB_surl': 'C6hA',\n",
       "  'Nom': 'nevark virale glours',\n",
       "  'PA': 11,\n",
       "  'PM': 6,\n",
       "  'PO': 5,\n",
       "  'Invo': 1,\n",
       "  'Lvl': 200,\n",
       "  'classes': [],\n",
       "  'elements': [1, 4]},\n",
       " {'DB_id': 2885668,\n",
       "  'DB_surl': 'C6h2',\n",
       "  'Nom': 'noctu wulan logis',\n",
       "  'PA': 11,\n",
       "  'PM': 6,\n",
       "  'PO': 6,\n",
       "  'Invo': 1,\n",
       "  'Lvl': 200,\n",
       "  'classes': [1, 3, 6, 11, 12, 14, 15],\n",
       "  'elements': [1, 3, 6]},\n",
       " {'DB_id': 2885015,\n",
       "  'DB_surl': 'C6WV',\n",
       "  'Nom': 'mazin pnose ementaire',\n",
       "  'PA': 12,\n",
       "  'PM': 5,\n",
       "  'PO': 5,\n",
       "  'Invo': 5,\n",
       "  'Lvl': 200,\n",
       "  'classes': [2, 10],\n",
       "  'elements': [2, 3]},\n",
       " {'DB_id': 2881828,\n",
       "  'DB_surl': 'C5h6',\n",
       "  'Nom': 'lunaire scaramouchapeau',\n",
       "  'PA': 11,\n",
       "  'PM': 6,\n",
       "  'PO': 4,\n",
       "  'Invo': 4,\n",
       "  'Lvl': 200,\n",
       "  'classes': [11, 10, 12],\n",
       "  'elements': [1]},\n",
       " {'DB_id': 2881824,\n",
       "  'DB_surl': 'C5h2',\n",
       "  'Nom': 'kolo lunaire',\n",
       "  'PA': 12,\n",
       "  'PM': 6,\n",
       "  'PO': 5,\n",
       "  'Invo': 3,\n",
       "  'Lvl': 200,\n",
       "  'classes': [1, 3, 4, 6, 8, 9, 10, 11, 12, 14, 15],\n",
       "  'elements': [1]},\n",
       " {'DB_id': 2881825,\n",
       "  'DB_surl': 'C5h3',\n",
       "  'Nom': 'kolo lunaire tank',\n",
       "  'PA': 12,\n",
       "  'PM': 6,\n",
       "  'PO': 6,\n",
       "  'Invo': 3,\n",
       "  'Lvl': 200,\n",
       "  'classes': [1, 3, 4, 6, 8, 9, 10, 11, 12, 14, 15],\n",
       "  'elements': [1]},\n",
       " {'DB_id': 2881826,\n",
       "  'DB_surl': 'C5h4',\n",
       "  'Nom': 'kolo lunaire tranche goule',\n",
       "  'PA': 12,\n",
       "  'PM': 6,\n",
       "  'PO': 6,\n",
       "  'Invo': 3,\n",
       "  'Lvl': 200,\n",
       "  'classes': [1, 3, 4, 6, 8, 9, 11, 10, 12, 14, 15],\n",
       "  'elements': [1]},\n",
       " {'DB_id': 2881827,\n",
       "  'DB_surl': 'C5h5',\n",
       "  'Nom': 'kolo chasseur de trésor',\n",
       "  'PA': 12,\n",
       "  'PM': 6,\n",
       "  'PO': 6,\n",
       "  'Invo': 1,\n",
       "  'Lvl': 200,\n",
       "  'classes': [1, 3, 4, 6, 8, 9, 11, 12, 14, 15],\n",
       "  'elements': [1]},\n",
       " {'DB_id': 2881829,\n",
       "  'DB_surl': 'C5h7',\n",
       "  'Nom': 'panoplistik wulan',\n",
       "  'PA': 11,\n",
       "  'PM': 6,\n",
       "  'PO': 5,\n",
       "  'Invo': 0,\n",
       "  'Lvl': 200,\n",
       "  'classes': [1, 3, 4, 6, 8, 11, 12, 14, 15, 9],\n",
       "  'elements': [1, 6]},\n",
       " {'DB_id': 2881842,\n",
       "  'DB_surl': 'C5hK',\n",
       "  'Nom': 'ava padgref',\n",
       "  'PA': 12,\n",
       "  'PM': 6,\n",
       "  'PO': 6,\n",
       "  'Invo': 3,\n",
       "  'Lvl': 200,\n",
       "  'classes': [4, 9],\n",
       "  'elements': [4, 6]},\n",
       " {'DB_id': 2881838,\n",
       "  'DB_surl': 'C5hG',\n",
       "  'Nom': 'bandit firefoux',\n",
       "  'PA': 12,\n",
       "  'PM': 6,\n",
       "  'PO': 5,\n",
       "  'Invo': 3,\n",
       "  'Lvl': 200,\n",
       "  'classes': [3, 4, 8, 9],\n",
       "  'elements': [2, 6]},\n",
       " {'DB_id': 2881832,\n",
       "  'DB_surl': 'C5hA',\n",
       "  'Nom': 'sanctuaire cryo',\n",
       "  'PA': 12,\n",
       "  'PM': 6,\n",
       "  'PO': 7,\n",
       "  'Invo': 1,\n",
       "  'Lvl': 200,\n",
       "  'classes': [13],\n",
       "  'elements': [3]},\n",
       " {'DB_id': 2881833,\n",
       "  'DB_surl': 'C5hB',\n",
       "  'Nom': 'sanctuaire wulan',\n",
       "  'PA': 11,\n",
       "  'PM': 6,\n",
       "  'PO': 6,\n",
       "  'Invo': 1,\n",
       "  'Lvl': 200,\n",
       "  'classes': [1, 6, 11, 12, 13],\n",
       "  'elements': [3, 6]},\n",
       " {'DB_id': 2881843,\n",
       "  'DB_surl': 'C5hL',\n",
       "  'Nom': 'air no pano klime sacrif',\n",
       "  'PA': 11,\n",
       "  'PM': 6,\n",
       "  'PO': 7,\n",
       "  'Invo': 4,\n",
       "  'Lvl': 200,\n",
       "  'classes': [2, 4, 5, 6, 7, 8, 9, 11, 12, 13, 14],\n",
       "  'elements': [4]},\n",
       " {'DB_id': 2881845,\n",
       "  'DB_surl': 'C5hN',\n",
       "  'Nom': 'air no pano dina usicke',\n",
       "  'PA': 11,\n",
       "  'PM': 6,\n",
       "  'PO': 6,\n",
       "  'Invo': 4,\n",
       "  'Lvl': 200,\n",
       "  'classes': [2, 4, 5, 6, 7, 8, 9, 11, 12, 13, 14],\n",
       "  'elements': [4]},\n",
       " {'DB_id': 2881841,\n",
       "  'DB_surl': 'C5hJ',\n",
       "  'Nom': 'ava allister',\n",
       "  'PA': 12,\n",
       "  'PM': 6,\n",
       "  'PO': 6,\n",
       "  'Invo': 5,\n",
       "  'Lvl': 200,\n",
       "  'classes': [4, 9],\n",
       "  'elements': [4]},\n",
       " {'DB_id': 2881840,\n",
       "  'DB_surl': 'C5hI',\n",
       "  'Nom': 'bandit luminescente',\n",
       "  'PA': 12,\n",
       "  'PM': 6,\n",
       "  'PO': 6,\n",
       "  'Invo': 2,\n",
       "  'Lvl': 200,\n",
       "  'classes': [9, 3, 4, 8, 13],\n",
       "  'elements': [2]},\n",
       " {'DB_id': 2881852,\n",
       "  'DB_surl': 'C5hU',\n",
       "  'Nom': 'bandit luminescente invo',\n",
       "  'PA': 12,\n",
       "  'PM': 6,\n",
       "  'PO': 6,\n",
       "  'Invo': 5,\n",
       "  'Lvl': 200,\n",
       "  'classes': [2, 10],\n",
       "  'elements': [2]},\n",
       " {'DB_id': 2881839,\n",
       "  'DB_surl': 'C5hH',\n",
       "  'Nom': 'funespadon no pano',\n",
       "  'PA': 11,\n",
       "  'PM': 6,\n",
       "  'PO': 6,\n",
       "  'Invo': 1,\n",
       "  'Lvl': 200,\n",
       "  'classes': [3, 4, 9, 13, 8],\n",
       "  'elements': [2]}]"
      ]
     },
     "execution_count": 12,
     "metadata": {},
     "output_type": "execute_result"
    }
   ],
   "source": [
    "taille=20\n",
    "i=1\n",
    "stuff_liste=[]\n",
    "while taille==20:\n",
    "    resp=req.get(url_builder(page=i)).json()[\"rows\"]\n",
    "    taille=len(resp)\n",
    "    for stuff in resp:\n",
    "        temp_dict={\n",
    "            \"DB_id\": stuff['id'],\n",
    "            \"DB_surl\": get_stuff_base_info(stuff['id'])[\"DB_surl\"],\n",
    "            \"Nom\": stuff[\"name\"],\n",
    "            \"PA\": get_stuff_base_info(stuff['id'])[\"PA\"],\n",
    "            \"PM\": get_stuff_base_info(stuff['id'])[\"PM\"],\n",
    "            \"PO\": get_stuff_base_info(stuff['id'])[\"PO\"],\n",
    "            \"Invo\": get_stuff_base_info(stuff['id'])[\"Invo\"],\n",
    "            \"Lvl\" : get_stuff_base_info(stuff['id'])[\"Lvl\"],\n",
    "            \"classes\": stuff[\"allowed_classes\"],\n",
    "            \"elements\": [ raw_elt_to_id[elt_raw] for elt_raw in stuff[\"tags\"]]\n",
    "        }\n",
    "        stuff_liste.append(temp_dict)\n",
    "    print(\"page \"+str(i)+\" finie\")\n",
    "    i+=1\n",
    "\n",
    "stuff_liste"
   ]
  },
  {
   "cell_type": "code",
   "execution_count": 71,
   "metadata": {},
   "outputs": [
    {
     "data": {
      "text/plain": [
       "[{'DB_id': 2261823,\n",
       "  'DB_surl': '9UP1',\n",
       "  'Nom': 'terre 180 1v1',\n",
       "  'PA': 12,\n",
       "  'PM': 6,\n",
       "  'PO': 4,\n",
       "  'Invo': 3,\n",
       "  'Lvl': 189,\n",
       "  'classes': [1, 3, 4],\n",
       "  'elements': [1, 3, 5, 7, 9]},\n",
       " {'DB_id': 2884758,\n",
       "  'DB_surl': '9UP1',\n",
       "  'Nom': 'test2',\n",
       "  'PA': 12,\n",
       "  'PM': 5,\n",
       "  'PO': 5,\n",
       "  'Invo': 4,\n",
       "  'Lvl': 200,\n",
       "  'classes': [2, 3],\n",
       "  'elements': []},\n",
       " {'DB_id': 2884753,\n",
       "  'DB_surl': '9UP1',\n",
       "  'Nom': 'test',\n",
       "  'PA': 12,\n",
       "  'PM': 5,\n",
       "  'PO': 5,\n",
       "  'Invo': 4,\n",
       "  'Lvl': 200,\n",
       "  'classes': [2, 3],\n",
       "  'elements': []},\n",
       " {'DB_id': 2485009,\n",
       "  'DB_surl': '9UP1',\n",
       "  'Nom': 'Osa mazin pnose ementaire',\n",
       "  'PA': 12,\n",
       "  'PM': 5,\n",
       "  'PO': 5,\n",
       "  'Invo': 5,\n",
       "  'Lvl': 200,\n",
       "  'classes': [2, 3],\n",
       "  'elements': []},\n",
       " {'DB_id': 2881746,\n",
       "  'DB_surl': '9UP1',\n",
       "  'Nom': 'osa mazin pnose bandit rifique',\n",
       "  'PA': 12,\n",
       "  'PM': 5,\n",
       "  'PO': 4,\n",
       "  'Invo': 5,\n",
       "  'Lvl': 200,\n",
       "  'classes': [2, 3],\n",
       "  'elements': []},\n",
       " {'DB_id': 2668650,\n",
       "  'DB_surl': '9UP1',\n",
       "  'Nom': 'mazin pnose thanos',\n",
       "  'PA': 11,\n",
       "  'PM': 6,\n",
       "  'PO': 4,\n",
       "  'Invo': 2,\n",
       "  'Lvl': 200,\n",
       "  'classes': [2, 3],\n",
       "  'elements': []},\n",
       " {'DB_id': 2030220,\n",
       "  'DB_surl': '9UP1',\n",
       "  'Nom': 'base terre kolosso ouro',\n",
       "  'PA': 12,\n",
       "  'PM': 6,\n",
       "  'PO': 6,\n",
       "  'Invo': 2,\n",
       "  'Lvl': 200,\n",
       "  'classes': [1],\n",
       "  'elements': []},\n",
       " {'DB_id': 2883498,\n",
       "  'DB_surl': '9UP1',\n",
       "  'Nom': 'full dopou terre eau po',\n",
       "  'PA': 11,\n",
       "  'PM': 6,\n",
       "  'PO': 6,\n",
       "  'Invo': 4,\n",
       "  'Lvl': 200,\n",
       "  'classes': [5, 3, 1],\n",
       "  'elements': []},\n",
       " {'DB_id': 2883510,\n",
       "  'DB_surl': '9UP1',\n",
       "  'Nom': 'full dopou eau air 2',\n",
       "  'PA': 11,\n",
       "  'PM': 6,\n",
       "  'PO': 6,\n",
       "  'Invo': 4,\n",
       "  'Lvl': 200,\n",
       "  'classes': [5, 3, 4],\n",
       "  'elements': []},\n",
       " {'DB_id': 2723211,\n",
       "  'DB_surl': '9UP1',\n",
       "  'Nom': 'full dopou terre eau',\n",
       "  'PA': 11,\n",
       "  'PM': 6,\n",
       "  'PO': 0,\n",
       "  'Invo': 5,\n",
       "  'Lvl': 200,\n",
       "  'classes': [5, 3, 1],\n",
       "  'elements': []},\n",
       " {'DB_id': 2882669,\n",
       "  'DB_surl': '9UP1',\n",
       "  'Nom': 'chasseur glours magma',\n",
       "  'PA': 12,\n",
       "  'PM': 6,\n",
       "  'PO': 6,\n",
       "  'Invo': 3,\n",
       "  'Lvl': 200,\n",
       "  'classes': [2, 1],\n",
       "  'elements': [4]},\n",
       " {'DB_id': 2469728,\n",
       "  'DB_surl': '9UP1',\n",
       "  'Nom': 'osa luminescente cycloïde ',\n",
       "  'PA': 11,\n",
       "  'PM': 6,\n",
       "  'PO': 6,\n",
       "  'Invo': 4,\n",
       "  'Lvl': 200,\n",
       "  'classes': [2, 4],\n",
       "  'elements': []},\n",
       " {'DB_id': 2603172,\n",
       "  'DB_surl': '9UP1',\n",
       "  'Nom': 'osa lumi cyclo',\n",
       "  'PA': 11,\n",
       "  'PM': 6,\n",
       "  'PO': 6,\n",
       "  'Invo': 6,\n",
       "  'Lvl': 200,\n",
       "  'classes': [2, 4],\n",
       "  'elements': []},\n",
       " {'DB_id': 2485002,\n",
       "  'DB_surl': '9UP1',\n",
       "  'Nom': 'Osa mazin pnose bandit ',\n",
       "  'PA': 12,\n",
       "  'PM': 5,\n",
       "  'PO': 4,\n",
       "  'Invo': 2,\n",
       "  'Lvl': 200,\n",
       "  'classes': [2, 3],\n",
       "  'elements': []},\n",
       " {'DB_id': 2815815,\n",
       "  'DB_surl': '9UP1',\n",
       "  'Nom': 'noctu wulan ouro',\n",
       "  'PA': 11,\n",
       "  'PM': 6,\n",
       "  'PO': 6,\n",
       "  'Invo': 1,\n",
       "  'Lvl': 200,\n",
       "  'classes': [1, 3, 6],\n",
       "  'elements': []},\n",
       " {'DB_id': 1179035,\n",
       "  'DB_surl': '9UP1',\n",
       "  'Nom': 'base noctu shihan',\n",
       "  'PA': 11,\n",
       "  'PM': 6,\n",
       "  'PO': 7,\n",
       "  'Invo': 1,\n",
       "  'Lvl': 200,\n",
       "  'classes': [1, 3],\n",
       "  'elements': []},\n",
       " {'DB_id': 571833,\n",
       "  'DB_surl': '9UP1',\n",
       "  'Nom': 'base stri glour',\n",
       "  'PA': 11,\n",
       "  'PM': 6,\n",
       "  'PO': 3,\n",
       "  'Invo': 1,\n",
       "  'Lvl': 200,\n",
       "  'classes': [1, 2, 3, 4],\n",
       "  'elements': []},\n",
       " {'DB_id': 2625762,\n",
       "  'DB_surl': '9UP1',\n",
       "  'Nom': 'ava égarés dopou',\n",
       "  'PA': 11,\n",
       "  'PM': 6,\n",
       "  'PO': 5,\n",
       "  'Invo': 4,\n",
       "  'Lvl': 200,\n",
       "  'classes': [4, 5],\n",
       "  'elements': []},\n",
       " {'DB_id': 2137940,\n",
       "  'DB_surl': '9UP1',\n",
       "  'Nom': 'feu no pano',\n",
       "  'PA': 11,\n",
       "  'PM': 6,\n",
       "  'PO': 6,\n",
       "  'Invo': 1,\n",
       "  'Lvl': 200,\n",
       "  'classes': [2],\n",
       "  'elements': []},\n",
       " {'DB_id': 2876819,\n",
       "  'DB_surl': '9UP1',\n",
       "  'Nom': 'enu bandit firefoux',\n",
       "  'PA': 12,\n",
       "  'PM': 6,\n",
       "  'PO': 5,\n",
       "  'Invo': 3,\n",
       "  'Lvl': 200,\n",
       "  'classes': [2],\n",
       "  'elements': []}]"
      ]
     },
     "execution_count": 71,
     "metadata": {},
     "output_type": "execute_result"
    }
   ],
   "source": [
    "stuff_liste"
   ]
  }
 ],
 "metadata": {
  "kernelspec": {
   "display_name": "Python 3",
   "language": "python",
   "name": "python3"
  },
  "language_info": {
   "codemirror_mode": {
    "name": "ipython",
    "version": 3
   },
   "file_extension": ".py",
   "mimetype": "text/x-python",
   "name": "python",
   "nbconvert_exporter": "python",
   "pygments_lexer": "ipython3",
   "version": "3.9.0"
  }
 },
 "nbformat": 4,
 "nbformat_minor": 2
}
